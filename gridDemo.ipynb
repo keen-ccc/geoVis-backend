{
 "cells": [
  {
   "cell_type": "code",
   "execution_count": 3,
   "metadata": {},
   "outputs": [],
   "source": [
    "import geopandas as gpd\n",
    "import pandas as pd\n",
    "# 读取grids.geojson文件\n",
    "grid = gpd.read_file('grids.geojson')\n",
    "# 读取data\n",
    "data = pd.read_csv('population_density_split.csv')"
   ]
  },
  {
   "cell_type": "code",
   "execution_count": 47,
   "metadata": {},
   "outputs": [
    {
     "name": "stdout",
     "output_type": "stream",
     "text": [
      "Index(['geometry'], dtype='object')\n",
      "Index(['geometry'], dtype='object')\n",
      "0    POLYGON ((97.3666 26.04763, 97.3666 26.05662, ...\n",
      "1    POLYGON ((97.3666 26.05662, 97.3666 26.0656, 9...\n",
      "2    POLYGON ((97.3666 26.0656, 97.3666 26.07458, 9...\n",
      "3    POLYGON ((97.3666 26.07458, 97.3666 26.08356, ...\n",
      "4    POLYGON ((97.3666 26.08356, 97.3666 26.09255, ...\n",
      "Name: geometry, dtype: geometry\n",
      "<geopandas.sindex.SpatialIndex object at 0x0000026F4C0CEB50>\n"
     ]
    }
   ],
   "source": [
    "# 检查是否存在几何列\n",
    "print(grid.columns)\n",
    "\n",
    "# 如果没有正确加载几何列，或者列名不是 'geometry'，你需要显式设置几何列\n",
    "# 比如，如果你的几何列的名字是 'geom'，就需要用 'geom' 替代 'geometry'\n",
    "grid = grid.set_geometry('geometry')  # 或者使用 grid.set_geometry('geom')，具体根据你的数据列名\n",
    "print(grid.columns)\n",
    "\n",
    "# 确保设置了几何列后，再创建空间索引\n",
    "grid.sindex  # 创建空间索引\n",
    "\n",
    "# 打印一下几何列和空间索引，确保它们都设置正确\n",
    "print(grid.geometry.head())\n",
    "print(grid.sindex)"
   ]
  },
  {
   "cell_type": "code",
   "execution_count": 34,
   "metadata": {},
   "outputs": [
    {
     "name": "stdout",
     "output_type": "stream",
     "text": [
      "           X          Y    Z                   geometry\n",
      "0  96.652916  34.637083  0.0  POINT (96.65292 34.63708)\n",
      "1  96.661250  34.637083  0.0  POINT (96.66125 34.63708)\n",
      "2  96.669583  34.637083  0.0  POINT (96.66958 34.63708)\n",
      "3  96.677916  34.637083  0.0  POINT (96.67792 34.63708)\n",
      "4  96.686250  34.637083  0.0  POINT (96.68625 34.63708)\n"
     ]
    }
   ],
   "source": [
    "\n",
    "from shapely.geometry import Point\n",
    "\n",
    "\n",
    "# 第二步：创建 'geometry' 列，这里将 'X' 和 'Y' 列转换为 Point 对象\n",
    "geometry = [Point(xy) for xy in zip(data['X'], data['Y'])]\n",
    "\n",
    "# 第三步：将数据转换为 GeoDataFrame\n",
    "gdf = gpd.GeoDataFrame(data, geometry=geometry)\n",
    "\n",
    "# 第四步：设置坐标参考系统（CRS），假设数据是 WGS84 (EPSG:4326)\n",
    "gdf.crs = 'EPSG:4326'\n",
    "\n",
    "# 打印 GeoDataFrame 的前几行，确保数据被正确转换\n",
    "print(gdf.head())\n",
    "\n",
    "# 如果 CRS 不一致，可以使用 `to_crs()` 来转换 CRS\n",
    "# gdf = gdf.to_crs('EPSG:4326')\n"
   ]
  },
  {
   "cell_type": "code",
   "execution_count": 4,
   "metadata": {},
   "outputs": [],
   "source": [
    "import sqlite3\n",
    "import numpy as np\n",
    "\n",
    "\n",
    "\n",
    "poi_density = []\n",
    "poi_diversity = []\n",
    "\n",
    "def get_db():\n",
    "    conn = sqlite3.connect('geovis.sqlite')\n",
    "    return conn\n",
    "\n",
    "conn = get_db()\n",
    "cur = conn.cursor()"
   ]
  },
  {
   "cell_type": "code",
   "execution_count": 20,
   "metadata": {},
   "outputs": [],
   "source": [
    "def cal_max_min_population(population_density):\n",
    "    print(\"计算population最大最小值\")\n",
    "    # 计算四个指标的最大最小值\n",
    "    # 人口密度\n",
    "\n",
    "    # 将数据转换为NumPy数组以加快处理速度\n",
    "    data_array = data[['X', 'Y', 'Z']].values\n",
    "\n",
    "    for i in range(grid.shape[0]):\n",
    "        start_lon = list(grid.loc[i,'geometry'].exterior.coords)[2][0]\n",
    "        start_lat = list(grid.loc[i,'geometry'].exterior.coords)[0][1]\n",
    "        end_lon = list(grid.loc[i,'geometry'].exterior.coords)[0][0]\n",
    "        end_lat = list(grid.loc[i,'geometry'].exterior.coords)[2][1]\n",
    "\n",
    "        # 使用NumPy进行矢量化筛选\n",
    "        mask = (data_array[:, 0] >= start_lon) & (data_array[:, 0] <= end_lon) & (data_array[:, 1] >= start_lat) & (data_array[:, 1] <= end_lat)\n",
    "        filtered_data = data_array[mask]\n",
    "\n",
    "        if filtered_data.size > 0:\n",
    "            mean_value = np.mean(filtered_data[:, 2])\n",
    "            population_density.append(mean_value)\n",
    "        else:\n",
    "            population_density.append(np.nan)\n",
    "\n",
    "        if(i % 10000 == 0):\n",
    "            print(\"已完成{}个网格\".format(i))\n",
    "\n",
    "    # 去除NaN值后计算最大最小值\n",
    "    # population_density = [x for x in population_density if not np.isnan(x)]\n",
    "    # print(\"人口密度最大值：\",max(population_density))\n",
    "    # print(\"人口密度最小值：\",min(population_density))"
   ]
  },
  {
   "cell_type": "code",
   "execution_count": 21,
   "metadata": {},
   "outputs": [
    {
     "name": "stdout",
     "output_type": "stream",
     "text": [
      "计算population最大最小值\n",
      "已完成0个网格\n",
      "已完成10000个网格\n",
      "已完成20000个网格\n",
      "已完成30000个网格\n",
      "已完成40000个网格\n",
      "已完成50000个网格\n",
      "已完成60000个网格\n",
      "已完成70000个网格\n",
      "已完成80000个网格\n",
      "已完成90000个网格\n",
      "已完成100000个网格\n",
      "已完成110000个网格\n",
      "已完成120000个网格\n",
      "已完成130000个网格\n",
      "已完成140000个网格\n",
      "已完成150000个网格\n",
      "已完成160000个网格\n",
      "已完成170000个网格\n",
      "已完成180000个网格\n",
      "已完成190000个网格\n",
      "已完成200000个网格\n",
      "已完成210000个网格\n",
      "已完成220000个网格\n",
      "已完成230000个网格\n",
      "已完成240000个网格\n",
      "已完成250000个网格\n",
      "已完成260000个网格\n",
      "已完成270000个网格\n",
      "已完成280000个网格\n",
      "已完成290000个网格\n"
     ]
    },
    {
     "ename": "KeyboardInterrupt",
     "evalue": "",
     "output_type": "error",
     "traceback": [
      "\u001b[1;31m---------------------------------------------------------------------------\u001b[0m",
      "\u001b[1;31mKeyboardInterrupt\u001b[0m                         Traceback (most recent call last)",
      "Cell \u001b[1;32mIn[21], line 2\u001b[0m\n\u001b[0;32m      1\u001b[0m population_density \u001b[38;5;241m=\u001b[39m []\n\u001b[1;32m----> 2\u001b[0m \u001b[43mcal_max_min_population\u001b[49m\u001b[43m(\u001b[49m\u001b[43mpopulation_density\u001b[49m\u001b[43m)\u001b[49m\n\u001b[0;32m      3\u001b[0m \u001b[38;5;66;03m# 去除NaN值后计算最大最小值\u001b[39;00m\n\u001b[0;32m      4\u001b[0m population_density \u001b[38;5;241m=\u001b[39m [x \u001b[38;5;28;01mfor\u001b[39;00m x \u001b[38;5;129;01min\u001b[39;00m population_density \u001b[38;5;28;01mif\u001b[39;00m \u001b[38;5;129;01mnot\u001b[39;00m np\u001b[38;5;241m.\u001b[39misnan(x)]\n",
      "Cell \u001b[1;32mIn[20], line 17\u001b[0m, in \u001b[0;36mcal_max_min_population\u001b[1;34m(population_density)\u001b[0m\n\u001b[0;32m     15\u001b[0m \u001b[38;5;66;03m# 使用NumPy进行矢量化筛选\u001b[39;00m\n\u001b[0;32m     16\u001b[0m mask \u001b[38;5;241m=\u001b[39m (data_array[:, \u001b[38;5;241m0\u001b[39m] \u001b[38;5;241m>\u001b[39m\u001b[38;5;241m=\u001b[39m start_lon) \u001b[38;5;241m&\u001b[39m (data_array[:, \u001b[38;5;241m0\u001b[39m] \u001b[38;5;241m<\u001b[39m\u001b[38;5;241m=\u001b[39m end_lon) \u001b[38;5;241m&\u001b[39m (data_array[:, \u001b[38;5;241m1\u001b[39m] \u001b[38;5;241m>\u001b[39m\u001b[38;5;241m=\u001b[39m start_lat) \u001b[38;5;241m&\u001b[39m (data_array[:, \u001b[38;5;241m1\u001b[39m] \u001b[38;5;241m<\u001b[39m\u001b[38;5;241m=\u001b[39m end_lat)\n\u001b[1;32m---> 17\u001b[0m filtered_data \u001b[38;5;241m=\u001b[39m \u001b[43mdata_array\u001b[49m\u001b[43m[\u001b[49m\u001b[43mmask\u001b[49m\u001b[43m]\u001b[49m\n\u001b[0;32m     19\u001b[0m \u001b[38;5;28;01mif\u001b[39;00m filtered_data\u001b[38;5;241m.\u001b[39msize \u001b[38;5;241m>\u001b[39m \u001b[38;5;241m0\u001b[39m:\n\u001b[0;32m     20\u001b[0m     mean_value \u001b[38;5;241m=\u001b[39m np\u001b[38;5;241m.\u001b[39mmean(filtered_data[:, \u001b[38;5;241m2\u001b[39m])\n",
      "\u001b[1;31mKeyboardInterrupt\u001b[0m: "
     ]
    }
   ],
   "source": [
    "population_density = []\n",
    "cal_max_min_population(population_density)\n",
    "# 去除NaN值后计算最大最小值\n",
    "population_density = [x for x in population_density if not np.isnan(x)]\n",
    "print(\"人口密度最大值：\",max(population_density))\n",
    "print(\"人口密度最小值：\",min(population_density))"
   ]
  },
  {
   "cell_type": "code",
   "execution_count": null,
   "metadata": {},
   "outputs": [],
   "source": [
    "print(population_density)"
   ]
  },
  {
   "cell_type": "code",
   "execution_count": 117,
   "metadata": {},
   "outputs": [],
   "source": [
    "import numpy as np\n",
    "import geopandas as gpd\n",
    "from shapely.geometry import Point\n",
    "\n",
    "def cal_max_min_population_sindex(grid, data,population_density):\n",
    "    print(\"计算population最大最小值\")\n",
    "    print(grid.columns)\n",
    "    # 为网格数据建立空间索引\n",
    "    grid = grid.set_geometry('geometry')\n",
    "    print(grid.columns)\n",
    "    grid.sindex  # 创建空间索引\n",
    "    print(grid.sindex)\n",
    "    # 将数据转换为GeoDataFrame\n",
    "    data_gdf = gpd.GeoDataFrame(data, geometry=[Point(xy) for xy in zip(data['X'], data['Y'])])\n",
    "    data_gdf.crs = grid.crs  # 确保坐标参考系一致\n",
    "\n",
    "    # 明确指定几何列\n",
    "    data_gdf = data_gdf.set_geometry('geometry')\n",
    "\n",
    "    # 遍历网格，使用空间索引进行筛选\n",
    "    for i, row in grid.iterrows():\n",
    "        # 获取当前网格的几何边界\n",
    "        grid_polygon = row['geometry']\n",
    "\n",
    "        # # 打印网格的边界信息，调试用\n",
    "        # print(f\"处理第 {i} 个网格，边界：\", grid_polygon.bounds)\n",
    "\n",
    "        # 使用空间索引查找可能在当前网格内的点\n",
    "        possible_matches_index = list(data_gdf.sindex.intersection(grid_polygon.bounds))\n",
    "        # print(f\"可能的匹配项索引：{possible_matches_index}\")\n",
    "        \n",
    "        # 提取这些候选数据\n",
    "        possible_matches = data_gdf.iloc[possible_matches_index]\n",
    "        # print(\"possible matches:\",possible_matches)\n",
    "\n",
    "        # 筛选在当前网格内的点\n",
    "        filtered_data = possible_matches[possible_matches.geometry.within(grid_polygon)]\n",
    "\n",
    "        if not filtered_data.empty:\n",
    "            # 计算人口密度的平均值\n",
    "            mean_value = np.mean(filtered_data['Z'])\n",
    "            population_density.append(mean_value)\n",
    "        else:\n",
    "            population_density.append(0)\n",
    "        \n",
    "        if i % 100000 == 0:\n",
    "            print(f\"已完成 {i} 个网格\")\n",
    "    \n",
    "    return population_density\n"
   ]
  },
  {
   "cell_type": "code",
   "execution_count": 119,
   "metadata": {},
   "outputs": [
    {
     "name": "stdout",
     "output_type": "stream",
     "text": [
      "计算population最大最小值\n",
      "Index(['geometry'], dtype='object')\n",
      "Index(['geometry'], dtype='object')\n",
      "<geopandas.sindex.SpatialIndex object at 0x0000026F944ACFA0>\n",
      "已完成 0 个网格\n",
      "已完成 100000 个网格\n",
      "已完成 200000 个网格\n",
      "已完成 300000 个网格\n",
      "已完成 400000 个网格\n",
      "已完成 500000 个网格\n",
      "已完成 600000 个网格\n",
      "已完成 700000 个网格\n",
      "已完成 800000 个网格\n",
      "已完成 900000 个网格\n",
      "人口密度最大值： 165134.453125\n",
      "人口密度最小值： 0\n"
     ]
    }
   ],
   "source": [
    "population_density = []\n",
    "population_density = cal_max_min_population_sindex(grid,data,population_density)\n",
    "# 去除NaN值后计算最大最小值\n",
    "# population_density = [x for x in population_density if not np.isnan(x)]\n",
    "# print(population_density)\n",
    "print(\"人口密度最大值：\",max(population_density)) #165134.453125\n",
    "print(\"人口密度最小值：\",min(population_density))#0"
   ]
  },
  {
   "cell_type": "code",
   "execution_count": 121,
   "metadata": {},
   "outputs": [
    {
     "name": "stdout",
     "output_type": "stream",
     "text": [
      "102858\n"
     ]
    }
   ],
   "source": [
    "print(population_density.count(0)) # 0的个数"
   ]
  },
  {
   "cell_type": "code",
   "execution_count": 123,
   "metadata": {},
   "outputs": [],
   "source": [
    "np.save('population_density.npy',population_density)"
   ]
  },
  {
   "cell_type": "code",
   "execution_count": 110,
   "metadata": {},
   "outputs": [],
   "source": [
    "def cal_max_min_poi(grid, poi_density, poi_diversity, canyin_df, company_df, mall_df, jpbank_df, yzbank_df,express_df):\n",
    "    print(\"开始计算POI密度和多样性\")\n",
    "    \n",
    "    # 确保网格索引是连续的整数\n",
    "    grid = grid.reset_index(drop=True)\n",
    "    \n",
    "    for i in range(grid.shape[0]):\n",
    "        # 获取当前网格的几何边界\n",
    "        grid_polygon = grid.loc[i, 'geometry']\n",
    "        min_lon, min_lat, max_lon, max_lat = grid_polygon.bounds\n",
    "\n",
    "        # 筛选每个POI数据，获取在当前网格内的POI\n",
    "        canyin_count = canyin_df[(canyin_df['lon'] >= min_lon) & (canyin_df['lon'] <= max_lon) &\n",
    "                                  (canyin_df['lat'] >= min_lat) & (canyin_df['lat'] <= max_lat)].shape[0]\n",
    "        company_count = company_df[(company_df['lon'] >= min_lon) & (company_df['lon'] <= max_lon) &\n",
    "                                    (company_df['lat'] >= min_lat) & (company_df['lat'] <= max_lat)].shape[0]\n",
    "        mall_count = mall_df[(mall_df['lon'] >= min_lon) & (mall_df['lon'] <= max_lon) &\n",
    "                              (mall_df['lat'] >= min_lat) & (mall_df['lat'] <= max_lat)].shape[0]\n",
    "        jpbank_count = jpbank_df[(jpbank_df['lon'] >= min_lon) & (jpbank_df['lon'] <= max_lon) &\n",
    "                                  (jpbank_df['lat'] >= min_lat) & (jpbank_df['lat'] <= max_lat)].shape[0]\n",
    "        yzbank_count = yzbank_df[(yzbank_df['lon'] >= min_lon) & (yzbank_df['lon'] <= max_lon) &\n",
    "                                  (yzbank_df['lat'] >= min_lat) & (yzbank_df['lat'] <= max_lat)].shape[0]\n",
    "        bank_count = jpbank_count + yzbank_count\n",
    "        express_count = express_df[(express_df['lon'] >= min_lon) & (express_df['lon'] <= max_lon) &\n",
    "                                    (express_df['lat'] >= min_lat) & (express_df['lat'] <= max_lat)].shape[0]\n",
    "        \n",
    "        # 计算总POI数量\n",
    "        poi_count = canyin_count + company_count + mall_count + bank_count + express_count\n",
    "        \n",
    "        # 计算POI密度（单位：POI数量/平方千米）\n",
    "        # 假设网格为1平方千米\n",
    "        poi_density_value = poi_count / 1  # 1平方千米\n",
    "        \n",
    "        # 计算POI多样性\n",
    "        if poi_count == 0:\n",
    "            poi_diversity_value = 0\n",
    "        else:\n",
    "            poi_diversity_value = -sum([x / poi_count * np.log(x / poi_count) \n",
    "                                        for x in [canyin_count, company_count, mall_count, bank_count, express_count] if x != 0])\n",
    "\n",
    "        # 保存计算结果\n",
    "        poi_density.append(poi_density_value)\n",
    "        poi_diversity.append(poi_diversity_value)\n",
    "\n",
    "        if i % 100000 == 0:\n",
    "            print(f\"已完成 {i} 个网格\")\n",
    "\n",
    "    return poi_density, poi_diversity\n",
    "\n",
    "\n"
   ]
  },
  {
   "cell_type": "code",
   "execution_count": 106,
   "metadata": {},
   "outputs": [],
   "source": [
    "# 示例数据加载（假设每个CSV文件有lon, lat列）\n",
    "canyin_df = pd.read_csv('canyin.csv')\n",
    "company_df = pd.read_csv('Company.csv')\n",
    "mall_df = pd.read_csv('Mall.csv')\n",
    "jpbank_df = pd.read_csv('jpBank.csv')\n",
    "yzbank_df = pd.read_csv('newYZBank.csv')\n",
    "express_df = pd.read_csv('express.csv')"
   ]
  },
  {
   "cell_type": "code",
   "execution_count": 111,
   "metadata": {},
   "outputs": [
    {
     "name": "stdout",
     "output_type": "stream",
     "text": [
      "开始计算POI密度和多样性\n",
      "已完成 0 个网格\n",
      "已完成 100000 个网格\n",
      "已完成 200000 个网格\n",
      "已完成 300000 个网格\n",
      "已完成 400000 个网格\n",
      "已完成 500000 个网格\n",
      "已完成 600000 个网格\n",
      "已完成 700000 个网格\n",
      "已完成 800000 个网格\n",
      "已完成 900000 个网格\n",
      "POI密度最大值： 1333.0\n",
      "POI密度最小值： 0.0\n",
      "POI多样性最大值： 1.5498260458782016\n",
      "POI多样性最小值： 0\n"
     ]
    }
   ],
   "source": [
    "# 使用网格数据计算POI密度和多样性\n",
    "poi_density = []\n",
    "poi_diversity = []\n",
    "\n",
    "poi_density, poi_diversity = cal_max_min_poi(grid, poi_density, poi_diversity, canyin_df, company_df, mall_df, jpbank_df, yzbank_df,express_df)\n",
    "\n",
    "# 输出结果\n",
    "print(\"POI密度最大值：\", max(poi_density))#1333\n",
    "print(\"POI密度最小值：\", min(poi_density))#0\n",
    "print(\"POI多样性最大值：\", max(poi_diversity))#1.5498260458782016\n",
    "print(\"POI多样性最小值：\", min(poi_diversity))#0"
   ]
  },
  {
   "cell_type": "code",
   "execution_count": 112,
   "metadata": {},
   "outputs": [
    {
     "name": "stdout",
     "output_type": "stream",
     "text": [
      "989000\n",
      "989000\n"
     ]
    }
   ],
   "source": [
    "print(len(poi_density))\n",
    "print(len(poi_diversity))"
   ]
  },
  {
   "cell_type": "code",
   "execution_count": 113,
   "metadata": {},
   "outputs": [],
   "source": [
    "np.save('poi_density.npy', poi_density)\n",
    "np.save('poi_diversity.npy', poi_diversity)"
   ]
  },
  {
   "cell_type": "code",
   "execution_count": 124,
   "metadata": {},
   "outputs": [],
   "source": [
    "# min-max标准化\n",
    "def min_max_scaler(data):\n",
    "    data = (data - np.min(data)) / (np.max(data) - np.min(data))\n",
    "    return data"
   ]
  },
  {
   "cell_type": "code",
   "execution_count": 125,
   "metadata": {},
   "outputs": [],
   "source": [
    "scale_population_density = min_max_scaler(population_density)\n",
    "np.save('scale_population_density.npy', scale_population_density)"
   ]
  },
  {
   "cell_type": "code",
   "execution_count": 126,
   "metadata": {},
   "outputs": [],
   "source": [
    "population_density_prob = []\n",
    "sum_population_density = np.sum(scale_population_density)\n",
    "# 计算概率矩阵\n",
    "for i in range(len(scale_population_density)):\n",
    "    population_density_prob.append(scale_population_density[i] / sum_population_density)\n",
    "\n",
    "np.save('prob_population_density.npy', population_density_prob)"
   ]
  },
  {
   "cell_type": "code",
   "execution_count": 128,
   "metadata": {},
   "outputs": [],
   "source": [
    "# 计算信息熵\n",
    "def cal_entropy(prob):\n",
    "    entropy = 0\n",
    "    for i in range(len(prob)):\n",
    "        if prob[i] != 0:\n",
    "            entropy -= prob[i] * np.log(prob[i])\n",
    "    # 变为0-1之间\n",
    "    entropy /= np.log(len(prob))\n",
    "    return entropy"
   ]
  },
  {
   "cell_type": "code",
   "execution_count": 129,
   "metadata": {},
   "outputs": [
    {
     "name": "stdout",
     "output_type": "stream",
     "text": [
      "人口密度信息熵： 0.8673254174870703\n"
     ]
    }
   ],
   "source": [
    "population_density_entropy = cal_entropy(population_density_prob)\n",
    "print(\"人口密度信息熵：\", population_density_entropy) #0.8673254174870703"
   ]
  },
  {
   "cell_type": "code",
   "execution_count": 115,
   "metadata": {},
   "outputs": [],
   "source": [
    "\n",
    "scale_poi_density = min_max_scaler(poi_density)\n",
    "scale_poi_diversity = min_max_scaler(poi_diversity)\n",
    "\n",
    "np.save('scale_poi_density.npy', scale_poi_density)\n",
    "np.save('scale_poi_diversity.npy', scale_poi_diversity)"
   ]
  },
  {
   "cell_type": "code",
   "execution_count": null,
   "metadata": {},
   "outputs": [],
   "source": [
    "poi_density_prob = []\n",
    "poi_diversity_prob = []\n",
    "sum_poi_density = np.sum(scale_poi_density)\n",
    "sum_poi_diversity = np.sum(scale_poi_diversity)\n",
    "# 计算概率矩阵\n",
    "for i in range(len(scale_poi_density)):\n",
    "    poi_density_prob.append(scale_poi_density[i] / sum_poi_density)\n",
    "\n",
    "for i in range(len(scale_poi_diversity)):\n",
    "    poi_diversity_prob.append(scale_poi_diversity[i] / sum_poi_diversity)\n",
    "\n",
    "np.save('prob_poi_density.npy', poi_density_prob)\n",
    "np.save('prob_poi_diversity.npy', poi_diversity_prob)"
   ]
  }
 ],
 "metadata": {
  "kernelspec": {
   "display_name": "test",
   "language": "python",
   "name": "python3"
  },
  "language_info": {
   "codemirror_mode": {
    "name": "ipython",
    "version": 3
   },
   "file_extension": ".py",
   "mimetype": "text/x-python",
   "name": "python",
   "nbconvert_exporter": "python",
   "pygments_lexer": "ipython3",
   "version": "3.9.18"
  }
 },
 "nbformat": 4,
 "nbformat_minor": 2
}
