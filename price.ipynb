{
 "cells": [
  {
   "cell_type": "code",
   "execution_count": 1,
   "metadata": {},
   "outputs": [],
   "source": [
    "import pandas as pd\n",
    "import numpy as np\n",
    "import os"
   ]
  },
  {
   "cell_type": "code",
   "execution_count": 11,
   "metadata": {},
   "outputs": [],
   "source": [
    "path = 'D:\\\\系统默认\\\\桌面\\\\邮政\\\\数据调研\\\\Bank\\\\无ID'"
   ]
  },
  {
   "cell_type": "code",
   "execution_count": 14,
   "metadata": {},
   "outputs": [],
   "source": [
    "# 将所有csv文件合并成一个文件\n",
    "for file in os.listdir(path):\n",
    "    if file.endswith('.csv'):\n",
    "        df = pd.read_csv(os.path.join(path, file))\n",
    "        # 合并所有csv文件\n",
    "        df.to_csv('D:\\\\系统默认\\\\桌面\\\\邮政\\\\数据调研\\\\Bank\\\\无ID\\\\jpBank.csv', mode='a', index=False, header=False, encoding='utf-8 sig')\n"
   ]
  },
  {
   "cell_type": "code",
   "execution_count": 4,
   "metadata": {},
   "outputs": [
    {
     "name": "stdout",
     "output_type": "stream",
     "text": [
      "0\n"
     ]
    }
   ],
   "source": [
    "# 是否有重复数据\n",
    "df = pd.read_csv('D:\\\\系统默认\\\\桌面\\\\邮政\\\\数据调研\\\\Bank\\\\无ID\\\\jpBank.csv')\n",
    "print(df.duplicated().sum())"
   ]
  }
 ],
 "metadata": {
  "kernelspec": {
   "display_name": "test",
   "language": "python",
   "name": "python3"
  },
  "language_info": {
   "codemirror_mode": {
    "name": "ipython",
    "version": 3
   },
   "file_extension": ".py",
   "mimetype": "text/x-python",
   "name": "python",
   "nbconvert_exporter": "python",
   "pygments_lexer": "ipython3",
   "version": "3.9.18"
  }
 },
 "nbformat": 4,
 "nbformat_minor": 2
}
